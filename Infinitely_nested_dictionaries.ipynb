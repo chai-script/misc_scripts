{
 "cells": [
  {
   "cell_type": "markdown",
   "id": "96ebb31f",
   "metadata": {},
   "source": [
    "### Problem\n",
    "\n",
    "#### 3 . Write a func which will take input as a dict and give me output as a list of all the values, even in case of 2 level nesting it should work ."
   ]
  },
  {
   "cell_type": "markdown",
   "id": "b907f8ae",
   "metadata": {},
   "source": [
    "#### The function below is Recursive and should work with ANY level of nesting technically. "
   ]
  },
  {
   "cell_type": "code",
   "execution_count": 3,
   "id": "7a2c7509",
   "metadata": {},
   "outputs": [],
   "source": [
    "def dict_values(l):\n",
    "    '''\n",
    "    Accepts a single argument that must be a dictionary or a list, otherwise returns NoneType object.\n",
    "    For a Dictionary, returns a list of all values in it, if there are any nested dictionaries,\n",
    "    the values inside them are included recursively.\n",
    "    For a list, returns a list of all values in it, if there are any dictionaries contained within,\n",
    "    all values of the dictionaries are included. For any nested dictionaries recurses through them and\n",
    "    includes their values.\n",
    "    \n",
    "    NOTE: A nested dictionary is a dictionary that is an element of the given argument or\n",
    "    is a value inside another nested dictionary.\n",
    "    '''\n",
    "    if type(l)==dict:\n",
    "        l=list(l.values())\n",
    "        copy=l.copy()\n",
    "    elif type(l)==list:\n",
    "        copy=l.copy()\n",
    "    else:\n",
    "        print('The argument must be a list or a dictionary.')\n",
    "        \n",
    "    recurse=False     ## Flag that controls recursion\n",
    "    count=0\n",
    "    for item in l:\n",
    "        if type(item)==dict:          ## If we find a dictionary inside, set recurse to True.\n",
    "            recurse=True\n",
    "            copy.pop(count)\n",
    "            for v in item.values():\n",
    "                copy.insert(count, v)\n",
    "                count+=1\n",
    "        else:                              ## If not a dict then just increment the counter, to ignore it.\n",
    "            count+=1\n",
    "            \n",
    "    if recurse:\n",
    "        return dict_values(copy)           ## Recursion point\n",
    "    else:\n",
    "        return copy"
   ]
  },
  {
   "cell_type": "code",
   "execution_count": 5,
   "id": "ea45981b",
   "metadata": {},
   "outputs": [
    {
     "data": {
      "text/plain": [
       "['set', 'bat', 1, 2, True, 23, (3+4j)]"
      ]
     },
     "execution_count": 5,
     "metadata": {},
     "output_type": "execute_result"
    }
   ],
   "source": [
    "## 2 level nesting..\n",
    "\n",
    "d2 = {1: 'set', 2: 'bat', 3:{'a': 1, 'b':2}, 4: True, 5:{'a':23, 'b':3+4j}}\n",
    "\n",
    "dict_values(d2)"
   ]
  },
  {
   "cell_type": "code",
   "execution_count": 4,
   "id": "e6af2514",
   "metadata": {
    "scrolled": true
   },
   "outputs": [
    {
     "data": {
      "text/plain": [
       "['set', 'bat', 1, 2, True, 23, 'rat', (3+4j)]"
      ]
     },
     "execution_count": 4,
     "metadata": {},
     "output_type": "execute_result"
    }
   ],
   "source": [
    "## 3 level nesting..\n",
    "\n",
    "d3 = {1: 'set', 2: 'bat', 3:{'a': 1, 'b':2}, 4: True, 5:{'a':23, 'b':{1:'rat', 2:3+4j}}}\n",
    "\n",
    "dict_values(d3)"
   ]
  },
  {
   "cell_type": "code",
   "execution_count": 7,
   "id": "53be8b15",
   "metadata": {},
   "outputs": [
    {
     "data": {
      "text/plain": [
       "['set', 'bat', 1, 2, True, 23, 'rat', (3+4j), 'a', 'y', 3.14, 'no', 2]"
      ]
     },
     "execution_count": 7,
     "metadata": {},
     "output_type": "execute_result"
    }
   ],
   "source": [
    "## 5 level nesting..\n",
    "\n",
    "d5 = {1: 'set', 2: 'bat', 3:{'a': 1, 'b':2}, 4: True, 5:{'a':23, 'b':{1:'rat', 2:3+4j}},\n",
    "      6:{1:'a', 2:{'x':'y', 'p': {'q':3.14, 'r':{1:'no', 'two':2}  } }} \n",
    "     }\n",
    "\n",
    "dict_values(d5)\n",
    "\n",
    "## Note that the values are ordered in the way they appear in the original dictionary..."
   ]
  },
  {
   "cell_type": "markdown",
   "id": "3e307215",
   "metadata": {},
   "source": [
    "#### Note: This may not work for very high level of nesting like 1000 something, because python has a limit to how many level of depths a recursive operation may go !"
   ]
  }
 ],
 "metadata": {
  "kernelspec": {
   "display_name": "Python 3 (ipykernel)",
   "language": "python",
   "name": "python3"
  },
  "language_info": {
   "codemirror_mode": {
    "name": "ipython",
    "version": 3
   },
   "file_extension": ".py",
   "mimetype": "text/x-python",
   "name": "python",
   "nbconvert_exporter": "python",
   "pygments_lexer": "ipython3",
   "version": "3.10.2"
  }
 },
 "nbformat": 4,
 "nbformat_minor": 5
}
